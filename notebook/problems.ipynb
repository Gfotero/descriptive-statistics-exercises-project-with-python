{
    "cells": [
        {
            "cell_type": "markdown",
            "id": "ac622319",
            "metadata": {},
            "source": [
                "# Descriptive statistics problems"
            ]
        },
        {
            "cell_type": "markdown",
            "id": "5e0ab0d5",
            "metadata": {},
            "source": [
                "### Exercise 1\n",
                "\n",
                "We will use NumPy to obtain information to describe statistically.\n",
                "\n",
                "- Generate an array of 100 elements following a normal distribution.\n",
                "- Generate an array of 100 elements following a chi-square distribution with 3 degrees of freedom.\n",
                "- Calculate the main metrics and statistical measures that best describe the two vectors."
            ]
        },
        {
            "cell_type": "code",
            "execution_count": 6,
            "id": "34720ab6",
            "metadata": {},
            "outputs": [
                {
                    "name": "stdout",
                    "output_type": "stream",
                    "text": [
                        "Estadisticos principales para los valores Normales \n",
                        "        Valores Normales\n",
                        "count        100.000000\n",
                        "mean          -0.070911\n",
                        "std            1.082073\n",
                        "min           -2.627143\n",
                        "25%           -0.651753\n",
                        "50%           -0.140614\n",
                        "75%            0.749999\n",
                        "max            2.386221\n",
                        "Estadisticos principales para los valores ChiCuadrao \n",
                        "        Valores Chi Cuadrado\n",
                        "count            100.000000\n",
                        "mean               2.815360\n",
                        "std                2.352766\n",
                        "min                0.086913\n",
                        "25%                0.987440\n",
                        "50%                2.002560\n",
                        "75%                3.746310\n",
                        "max               10.385754\n"
                    ]
                },
                {
                    "data": {
                        "image/png": "[encoded data removed]",
                        "text/plain": [
                            "<Figure size 640x480 with 1 Axes>"
                        ]
                    },
                    "metadata": {},
                    "output_type": "display_data"
                },
                {
                    "name": "stdout",
                    "output_type": "stream",
                    "text": [
                        "Normal skewness: -0.1792932156178475\n",
                        "Chi skewness: 1.1439203645111964\n",
                        "Normal kurtosis: -0.16664509669039163\n",
                        "Chi kurtosis: 0.6629623083437477\n"
                    ]
                }
            ],
            "source": [
                "import numpy as np\n",
                "import statistics as stats\n",
                "from scipy.stats import *\n",
                "import matplotlib.pyplot as plt\n",
                "import pandas as pd\n",
                "\n",
                "naleatorios_normal = np.random.normal(0,1,100)\n",
                "naleatorios_chi=np.random.chisquare(3,100)\n",
                "EstN=pd.DataFrame(naleatorios_normal,columns=['Valores Normales'])\n",
                "EstChi=pd.DataFrame(naleatorios_chi,columns=['Valores Chi Cuadrado'])\n",
                "print('Estadisticos principales para los valores Normales','\\n',EstN.describe())\n",
                "print('Estadisticos principales para los valores ChiCuadrao','\\n',EstChi.describe())\n",
                "\n",
                "\n",
                "plt.hist(naleatorios_normal, bins=10, alpha=0.5, color='blue',label=['Normal'])\n",
                "plt.hist(naleatorios_chi, bins=10, alpha=0.5, color='orange', label=['Chi'])\n",
                "plt.legend()\n",
                "plt.show()\n",
                "\n",
                "skew_normal = skew(naleatorios_normal)\n",
                "skew_chi = skew(naleatorios_chi)\n",
                "\n",
                "print(f\"Normal skewness: {skew_normal}\")\n",
                "print(f\"Chi skewness: {skew_chi}\")\n",
                "\n",
                "kurt_normal = kurtosis(naleatorios_normal)\n",
                "kurt_chi = kurtosis(naleatorios_chi)\n",
                "\n",
                "print(f\"Normal kurtosis: {kurt_normal}\")\n",
                "print(f\"Chi kurtosis: {kurt_chi}\")\n",
                "\n"
            ]
        },
        {
            "cell_type": "markdown",
            "id": "e7a53fd1",
            "metadata": {},
            "source": [
                "Si tomamos en cuenta las medidas de simetria (Skew) y concentracion en torno a la media (kurtosis), claramente lo numeros generados con la distribucion normal son los que mejor se ajustan. Claro esta, estas medidas estadisticas hacen referencia a comparaciones usando como patron la distribucion normal."
            ]
        },
        {
            "cell_type": "markdown",
            "id": "46c70c3d",
            "metadata": {},
            "source": [
                "### Exercise 2\n",
                "\n",
                "Write a Python program to calculate the standard deviation of the following data:\n",
                "\n",
                "```py\n",
                "data = [4, 2, 5, 8, 6]\n",
                "```"
            ]
        },
        {
            "cell_type": "code",
            "execution_count": 7,
            "id": "d590308e",
            "metadata": {},
            "outputs": [
                {
                    "name": "stdout",
                    "output_type": "stream",
                    "text": [
                        "La desviacion estandar calcula con la formula en Python, es:  2.0\n",
                        "La desviacion estandar calculada con Numpy, es:  2.0\n"
                    ]
                }
            ],
            "source": [
                "# TODO\n",
                "import math\n",
                "\n",
                "data=[4,2,5,8,6]\n",
                "n=len(data)\n",
                "media=(sum(data)/n)\n",
                "resta=0\n",
                "for i, valor in enumerate(data):\n",
                "    resta=resta+(data[i]-media)**2\n",
                "Desv=math.sqrt(resta/n)\n",
                "print('La desviacion estandar calcula con la formula en Python, es: ', Desv)\n",
                "print('La desviacion estandar calculada con Numpy, es: ', np.std(data))\n",
                "\n",
                "\n"
            ]
        }
    ],
    "metadata": {
        "interpreter": {
            "hash": "9248718ffe6ce6938b217e69dbcc175ea21f4c6b28a317e96c05334edae734bb"
        },
        "kernelspec": {
            "display_name": "Python 3.9.12 ('ML-BOOTCAMP')",
            "language": "python",
            "name": "python3"
        },
        "language_info": {
            "codemirror_mode": {
                "name": "ipython",
                "version": 3
            },
            "file_extension": ".py",
            "mimetype": "text/x-python",
            "name": "python",
            "nbconvert_exporter": "python",
            "pygments_lexer": "ipython3",
            "version": "3.12.2"
        }
    },
    "nbformat": 4,
    "nbformat_minor": 5
}
