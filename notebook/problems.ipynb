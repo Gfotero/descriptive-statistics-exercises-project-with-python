{
    "cells": [
        {
            "cell_type": "markdown",
            "id": "ac622319",
            "metadata": {},
            "source": [
                "# Descriptive statistics problems"
            ]
        },
        {
            "cell_type": "markdown",
            "id": "5e0ab0d5",
            "metadata": {},
            "source": [
                "### Exercise 1\n",
                "\n",
                "We will use NumPy to obtain information to describe statistically.\n",
                "\n",
                "- Generate an array of 100 elements following a normal distribution.\n",
                "- Generate an array of 100 elements following a chi-square distribution with 3 degrees of freedom.\n",
                "- Calculate the main metrics and statistical measures that best describe the two vectors."
            ]
        },
        {
            "cell_type": "code",
            "execution_count": 60,
            "id": "34720ab6",
            "metadata": {},
            "outputs": [
                {
                    "name": "stdout",
                    "output_type": "stream",
                    "text": [
                        "Estadisticos principales para los valores Normales \n",
                        "        Valores Normales\n",
                        "count        100.000000\n",
                        "mean          -0.124661\n",
                        "std            0.963482\n",
                        "min           -3.194571\n",
                        "25%           -0.561488\n",
                        "50%           -0.070804\n",
                        "75%            0.421078\n",
                        "max            2.011786\n",
                        "Estadisticos principales para los valores ChiCuadrao \n",
                        "        Valores Chi Cuadrado\n",
                        "count            100.000000\n",
                        "mean               3.067461\n",
                        "std                2.719013\n",
                        "min                0.133049\n",
                        "25%                1.384321\n",
                        "50%                2.173844\n",
                        "75%                4.210710\n",
                        "max               17.941797\n"
                    ]
                },
                {
                    "data": {
                        "image/png": "[encoded data removed]",
                        "text/plain": [
                            "<Figure size 640x480 with 1 Axes>"
                        ]
                    },
                    "metadata": {},
                    "output_type": "display_data"
                },
                {
                    "name": "stdout",
                    "output_type": "stream",
                    "text": [
                        "Normal skewness: -0.3918146400405481\n",
                        "Chi skewness: 2.351237600086871\n",
                        "Normal kurtosis: 0.295990841934334\n",
                        "Chi kurtosis: 8.51315114287202\n"
                    ]
                }
            ],
            "source": [
                "import numpy as np\n",
                "import statistics as stats\n",
                "from scipy.stats import *\n",
                "import matplotlib.pyplot as plt\n",
                "import pandas as pd\n",
                "\n",
                "Naleatorios_Normal = np.random.normal(0,1,100)\n",
                "Naleatorios_Chi=np.random.chisquare(3,100)\n",
                "EstN=pd.DataFrame(Naleatorios_Normal,columns=['Valores Normales'])\n",
                "EstChi=pd.DataFrame(Naleatorios_Chi,columns=['Valores Chi Cuadrado'])\n",
                "print('Estadisticos principales para los valores Normales','\\n',EstN.describe())\n",
                "print('Estadisticos principales para los valores ChiCuadrao','\\n',EstChi.describe())\n",
                "\n",
                "#print(Naleatorios_Chi)\n",
                "#print(type(Naleatorios_Normal))\n",
                "plt.hist(Naleatorios_Normal, bins=10, alpha=0.5, color='blue',label=['Normal'])\n",
                "plt.hist(Naleatorios_Chi, bins=10, alpha=0.5, color='orange', label=['Chi'])\n",
                "plt.legend()\n",
                "plt.show()\n",
                "\n",
                "skew_normal = skew(Naleatorios_Normal)\n",
                "skew_chi = skew(Naleatorios_Chi)\n",
                "\n",
                "print(f\"Normal skewness: {skew_normal}\")\n",
                "print(f\"Chi skewness: {skew_chi}\")\n",
                "\n",
                "kurt_normal = kurtosis(Naleatorios_Normal)\n",
                "kurt_chi = kurtosis(Naleatorios_Chi)\n",
                "\n",
                "print(f\"Normal kurtosis: {kurt_normal}\")\n",
                "print(f\"Chi kurtosis: {kurt_chi}\")\n",
                "\n"
            ]
        },
        {
            "cell_type": "markdown",
            "id": "e7a53fd1",
            "metadata": {},
            "source": [
                "Si tomamos en cuenta las medidas de simetria (Skew) y concentracion en torno a la media (kurtosis), claramente lo numeros generados con la distribucion normal son los que mejor se ajustan. Claro esta, estas medidas estadisticas hacen referencia a comparaciones usando como patron la distribucion normal."
            ]
        },
        {
            "cell_type": "markdown",
            "id": "46c70c3d",
            "metadata": {},
            "source": [
                "### Exercise 2\n",
                "\n",
                "Write a Python program to calculate the standard deviation of the following data:\n",
                "\n",
                "```py\n",
                "data = [4, 2, 5, 8, 6]\n",
                "```"
            ]
        },
        {
            "cell_type": "code",
            "execution_count": 93,
            "id": "d590308e",
            "metadata": {},
            "outputs": [
                {
                    "name": "stdout",
                    "output_type": "stream",
                    "text": [
                        "La desviacion estandar calcula con la formula en Python, es:  2.0\n",
                        "La desviacion estandar calculada con Numpy, es:  2.0\n"
                    ]
                }
            ],
            "source": [
                "# TODO\n",
                "import math\n",
                "\n",
                "data=[4,2,5,8,6]\n",
                "n=len(data)\n",
                "Media=(sum(data)/n)\n",
                "Resta=0\n",
                "for i, valor in enumerate(data):\n",
                "    Resta=Resta+(data[i]-Media)**2\n",
                "Desv=math.sqrt(Resta/n)\n",
                "print('La desviacion estandar calcula con la formula en Python, es: ', Desv)\n",
                "print('La desviacion estandar calculada con Numpy, es: ', np.std(data))\n",
                "\n",
                "\n"
            ]
        }
    ],
    "metadata": {
        "interpreter": {
            "hash": "9248718ffe6ce6938b217e69dbcc175ea21f4c6b28a317e96c05334edae734bb"
        },
        "kernelspec": {
            "display_name": "Python 3.9.12 ('ML-BOOTCAMP')",
            "language": "python",
            "name": "python3"
        },
        "language_info": {
            "codemirror_mode": {
                "name": "ipython",
                "version": 3
            },
            "file_extension": ".py",
            "mimetype": "text/x-python",
            "name": "python",
            "nbconvert_exporter": "python",
            "pygments_lexer": "ipython3",
            "version": "3.12.2"
        }
    },
    "nbformat": 4,
    "nbformat_minor": 5
}
